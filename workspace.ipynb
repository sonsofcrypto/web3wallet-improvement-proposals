{
 "cells": [
  {
   "cell_type": "code",
   "execution_count": null,
   "metadata": {
    "collapsed": true,
    "pycharm": {
     "name": "#%%\n"
    }
   },
   "outputs": [],
   "source": [
    "import os"
   ]
  },
  {
   "cell_type": "code",
   "execution_count": 17,
   "outputs": [],
   "source": [
    "# Create proposals json file from ./proposals/*.md files\n",
    "\n",
    "proposals = []\n",
    "\n",
    "from pathlib import Path\n",
    "import re, json\n",
    "\n",
    "categories = [\"unknown\", \"infrastructure\", \"integrations\", \"feature\"]\n",
    "\n",
    "for p in Path('.').glob('proposals/*.md'):\n",
    "    filename = p.name.replace(\".md\", \"\")\n",
    "    id = filename.replace(\"wip-\", \"\")\n",
    "    category = id[:1] # First number in id\n",
    "    text = p.read_text()\n",
    "    imagePath = re.search(\"[\\/\\w]+\\.[a-zA-Z]{3,4}\", text).group()\n",
    "    # WIP-1001 ETH 2.0 support\n",
    "    title = re.search(\"\\n\\#\\s+WIP-\\d+\\s+(.+)\\n*\", text).group(1)\n",
    "    body = re.search(\"\\n\\#\\s+WIP-\\d+\\s+.+\\n*(.*)\", text).group(1)\n",
    "\n",
    "    proposals.append({\n",
    "        \"category\": categories[int(category)],\n",
    "        \"id\": id,\n",
    "        \"image_url\": (\"https://raw.githubusercontent.com/sonsofcrypto/web3wallet-improvement-proposals/master\"+imagePath),\n",
    "        \"title\": title,\n",
    "        \"creation_date\": \"2022-08-28T00:00:00.000Z\",\n",
    "        \"votes\": 0,\n",
    "        \"body\": body\n",
    "    })\n",
    "file = open('proposal-list-new.json', 'w')\n",
    "file.write(json.dumps(proposals))\n",
    "file.close()"
   ],
   "metadata": {
    "collapsed": false,
    "pycharm": {
     "name": "#%%\n"
    }
   }
  },
  {
   "cell_type": "code",
   "execution_count": 18,
   "outputs": [],
   "source": [
    "# Create static page from template each proposal ./static/${PROPOSAL_ID}.html\n",
    "templateFile = open('./static/template.html', 'r')\n",
    "template = templateFile.read()\n",
    "templateFile.close()\n",
    "\n",
    "for p in proposals:\n",
    "    t = template\n",
    "    t = t.replace(\"${ID}\", p[\"id\"])\n",
    "    t = t.replace(\"${TITLE}\", p[\"title\"])\n",
    "    t = t.replace(\"${DESCRIPTION}\", \"web3Wallet improvement proposal \" + p[\"id\"])\n",
    "    t = t.replace(\"${IMAGE_URL}\", p[\"image_url\"].replace(\"\\\\\", \"\"))\n",
    "    t = t.replace(\"${CONTENT}\", p[\"body\"].replace(\"\\\\u\", \"\\\\n\")) # Picks up \\u instead of \\n\n",
    "    t = t.replace(\"${URL}\", \"https://sonsofcrypto.com/proposals/\"+p[\"id\"]+\".html\")\n",
    "    file = open('./static/'+p[\"id\"]+'.html', 'w')\n",
    "    file.write(t)\n",
    "    file.close()"
   ],
   "metadata": {
    "collapsed": false,
    "pycharm": {
     "name": "#%%\n"
    }
   }
  },
  {
   "cell_type": "code",
   "execution_count": 8,
   "outputs": [
    {
     "name": "stdout",
     "output_type": "stream",
     "text": [
      "Sleeping 0.5 seconds each query\n"
     ]
    },
    {
     "ename": "Unauthorized",
     "evalue": "401 Unauthorized\nUnauthorized",
     "output_type": "error",
     "traceback": [
      "\u001B[0;31m---------------------------------------------------------------------------\u001B[0m",
      "\u001B[0;31mUnauthorized\u001B[0m                              Traceback (most recent call last)",
      "Cell \u001B[0;32mIn [8], line 84\u001B[0m\n\u001B[1;32m     82\u001B[0m \u001B[38;5;28;01mwhile\u001B[39;00m next_token \u001B[38;5;241m!=\u001B[39m \u001B[38;5;241m-\u001B[39m\u001B[38;5;241m1\u001B[39m:\n\u001B[1;32m     83\u001B[0m     \u001B[38;5;28;01mif\u001B[39;00m (next_token \u001B[38;5;241m==\u001B[39m \u001B[38;5;241m0\u001B[39m):\n\u001B[0;32m---> 84\u001B[0m         response \u001B[38;5;241m=\u001B[39m \u001B[43mapi\u001B[49m\u001B[38;5;241;43m.\u001B[39;49m\u001B[43msearch_recent_tweets\u001B[49m\u001B[43m(\u001B[49m\u001B[43mquery\u001B[49m\u001B[38;5;241;43m=\u001B[39;49m\u001B[43mhashtag\u001B[49m\u001B[43m,\u001B[49m\u001B[43m \u001B[49m\u001B[43mstart_time\u001B[49m\u001B[38;5;241;43m=\u001B[39;49m\u001B[43mstart_time\u001B[49m\u001B[43m,\u001B[49m\u001B[43m \u001B[49m\u001B[43mmax_results\u001B[49m\u001B[38;5;241;43m=\u001B[39;49m\u001B[43mmax_results\u001B[49m\u001B[43m)\u001B[49m\n\u001B[1;32m     85\u001B[0m     \u001B[38;5;28;01melse\u001B[39;00m:\n\u001B[1;32m     86\u001B[0m         response \u001B[38;5;241m=\u001B[39m api\u001B[38;5;241m.\u001B[39msearch_recent_tweets(query\u001B[38;5;241m=\u001B[39mhashtag, next_token\u001B[38;5;241m=\u001B[39mnext_token, max_results\u001B[38;5;241m=\u001B[39mmax_results)\n",
      "File \u001B[0;32m~/crypto/web3wallet-improvement-proposals/venv/lib/python3.9/site-packages/tweepy/client.py:1248\u001B[0m, in \u001B[0;36mClient.search_recent_tweets\u001B[0;34m(self, query, user_auth, **params)\u001B[0m\n\u001B[1;32m   1156\u001B[0m \u001B[38;5;124;03m\"\"\"search_recent_tweets( \\\u001B[39;00m\n\u001B[1;32m   1157\u001B[0m \u001B[38;5;124;03m    query, *, end_time=None, expansions=None, max_results=None, \\\u001B[39;00m\n\u001B[1;32m   1158\u001B[0m \u001B[38;5;124;03m    media_fields=None, next_token=None, place_fields=None, \\\u001B[39;00m\n\u001B[0;32m   (...)\u001B[0m\n\u001B[1;32m   1245\u001B[0m \u001B[38;5;124;03m.. _Academic Research Project: https://developer.twitter.com/en/docs/projects\u001B[39;00m\n\u001B[1;32m   1246\u001B[0m \u001B[38;5;124;03m\"\"\"\u001B[39;00m\n\u001B[1;32m   1247\u001B[0m params[\u001B[38;5;124m\"\u001B[39m\u001B[38;5;124mquery\u001B[39m\u001B[38;5;124m\"\u001B[39m] \u001B[38;5;241m=\u001B[39m query\n\u001B[0;32m-> 1248\u001B[0m \u001B[38;5;28;01mreturn\u001B[39;00m \u001B[38;5;28;43mself\u001B[39;49m\u001B[38;5;241;43m.\u001B[39;49m\u001B[43m_make_request\u001B[49m\u001B[43m(\u001B[49m\n\u001B[1;32m   1249\u001B[0m \u001B[43m    \u001B[49m\u001B[38;5;124;43m\"\u001B[39;49m\u001B[38;5;124;43mGET\u001B[39;49m\u001B[38;5;124;43m\"\u001B[39;49m\u001B[43m,\u001B[49m\u001B[43m \u001B[49m\u001B[38;5;124;43m\"\u001B[39;49m\u001B[38;5;124;43m/2/tweets/search/recent\u001B[39;49m\u001B[38;5;124;43m\"\u001B[39;49m\u001B[43m,\u001B[49m\u001B[43m \u001B[49m\u001B[43mparams\u001B[49m\u001B[38;5;241;43m=\u001B[39;49m\u001B[43mparams\u001B[49m\u001B[43m,\u001B[49m\n\u001B[1;32m   1250\u001B[0m \u001B[43m    \u001B[49m\u001B[43mendpoint_parameters\u001B[49m\u001B[38;5;241;43m=\u001B[39;49m\u001B[43m(\u001B[49m\n\u001B[1;32m   1251\u001B[0m \u001B[43m        \u001B[49m\u001B[38;5;124;43m\"\u001B[39;49m\u001B[38;5;124;43mend_time\u001B[39;49m\u001B[38;5;124;43m\"\u001B[39;49m\u001B[43m,\u001B[49m\u001B[43m \u001B[49m\u001B[38;5;124;43m\"\u001B[39;49m\u001B[38;5;124;43mexpansions\u001B[39;49m\u001B[38;5;124;43m\"\u001B[39;49m\u001B[43m,\u001B[49m\u001B[43m \u001B[49m\u001B[38;5;124;43m\"\u001B[39;49m\u001B[38;5;124;43mmax_results\u001B[39;49m\u001B[38;5;124;43m\"\u001B[39;49m\u001B[43m,\u001B[49m\u001B[43m \u001B[49m\u001B[38;5;124;43m\"\u001B[39;49m\u001B[38;5;124;43mmedia.fields\u001B[39;49m\u001B[38;5;124;43m\"\u001B[39;49m\u001B[43m,\u001B[49m\n\u001B[1;32m   1252\u001B[0m \u001B[43m        \u001B[49m\u001B[38;5;124;43m\"\u001B[39;49m\u001B[38;5;124;43mnext_token\u001B[39;49m\u001B[38;5;124;43m\"\u001B[39;49m\u001B[43m,\u001B[49m\u001B[43m \u001B[49m\u001B[38;5;124;43m\"\u001B[39;49m\u001B[38;5;124;43mplace.fields\u001B[39;49m\u001B[38;5;124;43m\"\u001B[39;49m\u001B[43m,\u001B[49m\u001B[43m \u001B[49m\u001B[38;5;124;43m\"\u001B[39;49m\u001B[38;5;124;43mpoll.fields\u001B[39;49m\u001B[38;5;124;43m\"\u001B[39;49m\u001B[43m,\u001B[49m\u001B[43m \u001B[49m\u001B[38;5;124;43m\"\u001B[39;49m\u001B[38;5;124;43mquery\u001B[39;49m\u001B[38;5;124;43m\"\u001B[39;49m\u001B[43m,\u001B[49m\n\u001B[1;32m   1253\u001B[0m \u001B[43m        \u001B[49m\u001B[38;5;124;43m\"\u001B[39;49m\u001B[38;5;124;43msince_id\u001B[39;49m\u001B[38;5;124;43m\"\u001B[39;49m\u001B[43m,\u001B[49m\u001B[43m \u001B[49m\u001B[38;5;124;43m\"\u001B[39;49m\u001B[38;5;124;43msort_order\u001B[39;49m\u001B[38;5;124;43m\"\u001B[39;49m\u001B[43m,\u001B[49m\u001B[43m \u001B[49m\u001B[38;5;124;43m\"\u001B[39;49m\u001B[38;5;124;43mstart_time\u001B[39;49m\u001B[38;5;124;43m\"\u001B[39;49m\u001B[43m,\u001B[49m\u001B[43m \u001B[49m\u001B[38;5;124;43m\"\u001B[39;49m\u001B[38;5;124;43mtweet.fields\u001B[39;49m\u001B[38;5;124;43m\"\u001B[39;49m\u001B[43m,\u001B[49m\n\u001B[1;32m   1254\u001B[0m \u001B[43m        \u001B[49m\u001B[38;5;124;43m\"\u001B[39;49m\u001B[38;5;124;43muntil_id\u001B[39;49m\u001B[38;5;124;43m\"\u001B[39;49m\u001B[43m,\u001B[49m\u001B[43m \u001B[49m\u001B[38;5;124;43m\"\u001B[39;49m\u001B[38;5;124;43muser.fields\u001B[39;49m\u001B[38;5;124;43m\"\u001B[39;49m\n\u001B[1;32m   1255\u001B[0m \u001B[43m    \u001B[49m\u001B[43m)\u001B[49m\u001B[43m,\u001B[49m\u001B[43m \u001B[49m\u001B[43mdata_type\u001B[49m\u001B[38;5;241;43m=\u001B[39;49m\u001B[43mTweet\u001B[49m\u001B[43m,\u001B[49m\u001B[43m \u001B[49m\u001B[43muser_auth\u001B[49m\u001B[38;5;241;43m=\u001B[39;49m\u001B[43muser_auth\u001B[49m\n\u001B[1;32m   1256\u001B[0m \u001B[43m\u001B[49m\u001B[43m)\u001B[49m\n",
      "File \u001B[0;32m~/crypto/web3wallet-improvement-proposals/venv/lib/python3.9/site-packages/tweepy/client.py:126\u001B[0m, in \u001B[0;36mBaseClient._make_request\u001B[0;34m(self, method, route, params, endpoint_parameters, json, data_type, user_auth)\u001B[0m\n\u001B[1;32m    122\u001B[0m \u001B[38;5;28;01mdef\u001B[39;00m \u001B[38;5;21m_make_request\u001B[39m(\u001B[38;5;28mself\u001B[39m, method, route, params\u001B[38;5;241m=\u001B[39m{}, endpoint_parameters\u001B[38;5;241m=\u001B[39m\u001B[38;5;28;01mNone\u001B[39;00m,\n\u001B[1;32m    123\u001B[0m                   json\u001B[38;5;241m=\u001B[39m\u001B[38;5;28;01mNone\u001B[39;00m, data_type\u001B[38;5;241m=\u001B[39m\u001B[38;5;28;01mNone\u001B[39;00m, user_auth\u001B[38;5;241m=\u001B[39m\u001B[38;5;28;01mFalse\u001B[39;00m):\n\u001B[1;32m    124\u001B[0m     request_params \u001B[38;5;241m=\u001B[39m \u001B[38;5;28mself\u001B[39m\u001B[38;5;241m.\u001B[39m_process_params(params, endpoint_parameters)\n\u001B[0;32m--> 126\u001B[0m     response \u001B[38;5;241m=\u001B[39m \u001B[38;5;28;43mself\u001B[39;49m\u001B[38;5;241;43m.\u001B[39;49m\u001B[43mrequest\u001B[49m\u001B[43m(\u001B[49m\u001B[43mmethod\u001B[49m\u001B[43m,\u001B[49m\u001B[43m \u001B[49m\u001B[43mroute\u001B[49m\u001B[43m,\u001B[49m\u001B[43m \u001B[49m\u001B[43mparams\u001B[49m\u001B[38;5;241;43m=\u001B[39;49m\u001B[43mrequest_params\u001B[49m\u001B[43m,\u001B[49m\n\u001B[1;32m    127\u001B[0m \u001B[43m                            \u001B[49m\u001B[43mjson\u001B[49m\u001B[38;5;241;43m=\u001B[39;49m\u001B[43mjson\u001B[49m\u001B[43m,\u001B[49m\u001B[43m \u001B[49m\u001B[43muser_auth\u001B[49m\u001B[38;5;241;43m=\u001B[39;49m\u001B[43muser_auth\u001B[49m\u001B[43m)\u001B[49m\n\u001B[1;32m    129\u001B[0m     \u001B[38;5;28;01mif\u001B[39;00m \u001B[38;5;28mself\u001B[39m\u001B[38;5;241m.\u001B[39mreturn_type \u001B[38;5;129;01mis\u001B[39;00m requests\u001B[38;5;241m.\u001B[39mResponse:\n\u001B[1;32m    130\u001B[0m         \u001B[38;5;28;01mreturn\u001B[39;00m response\n",
      "File \u001B[0;32m~/crypto/web3wallet-improvement-proposals/venv/lib/python3.9/site-packages/tweepy/client.py:97\u001B[0m, in \u001B[0;36mBaseClient.request\u001B[0;34m(self, method, route, params, json, user_auth)\u001B[0m\n\u001B[1;32m     95\u001B[0m     \u001B[38;5;28;01mraise\u001B[39;00m BadRequest(response)\n\u001B[1;32m     96\u001B[0m \u001B[38;5;28;01mif\u001B[39;00m response\u001B[38;5;241m.\u001B[39mstatus_code \u001B[38;5;241m==\u001B[39m \u001B[38;5;241m401\u001B[39m:\n\u001B[0;32m---> 97\u001B[0m     \u001B[38;5;28;01mraise\u001B[39;00m Unauthorized(response)\n\u001B[1;32m     98\u001B[0m \u001B[38;5;28;01mif\u001B[39;00m response\u001B[38;5;241m.\u001B[39mstatus_code \u001B[38;5;241m==\u001B[39m \u001B[38;5;241m403\u001B[39m:\n\u001B[1;32m     99\u001B[0m     \u001B[38;5;28;01mraise\u001B[39;00m Forbidden(response)\n",
      "\u001B[0;31mUnauthorized\u001B[0m: 401 Unauthorized\nUnauthorized"
     ]
    }
   ],
   "source": [
    "# Have to run step one to have proposals in memory\n",
    "#\n",
    "# Might be better ways but this is one way to get a Twitter bearer token\n",
    "# 1. https://oauth-playground.glitch.me/?id=tweetsRecentSearch\n",
    "# 2. Run a query and authorize with Twitter account\n",
    "# 3. Click the dots on the right hand side\n",
    "# 4. Click Include access token\n",
    "# 5. It should now be visible in the query, just capture the <code>:\n",
    "# -H \"Authorization: Bearer <code>\"\n",
    "# It will expire after 6 hours or something\n",
    "\n",
    "# Download votes (number of tweets with hashtag for given proposal)\n",
    "import os, tweepy, time, json\n",
    "from datetime import datetime, timedelta, date\n",
    "from dateutil.parser import isoparse\n",
    "from dotenv import load_dotenv\n",
    "load_dotenv()\n",
    "\n",
    "\n",
    "# Get proposals\n",
    "proposalsFile = open('./proposal-list-new.json', 'r')\n",
    "proposals = json.loads(proposalsFile.read())\n",
    "proposalsFile.close()\n",
    "if type(proposals) is not list:\n",
    "    exit (\"No proposals found\")\n",
    "# Get votes\n",
    "try:\n",
    "    votesFile = open('./proposal-votes.json', 'r')\n",
    "    votes = json.loads(votesFile.read())\n",
    "    votesFile.close()\n",
    "except:\n",
    "    votes = False\n",
    "    print(\">>> No votes file found, creating a new file.\")\n",
    "\n",
    "proposalVotes = []\n",
    "\n",
    "\n",
    "api_key = os.environ.get(\"TWITTER_API\", \"\")\n",
    "api_key_secret = os.environ.get(\"TWITTER_API_SECRET\", \"\")\n",
    "bearer_token = os.environ.get(\"TWITTER_BEARER_TOKEN\", \"\")\n",
    "\n",
    "\n",
    "if api_key == \"\" or api_key_secret == \"\":\n",
    "    exit(\"API keys not set for twitter, please set in env TWITTER_API and TWITTER_API_SECRET\")\n",
    "\n",
    "# Connect to twitter API\n",
    "max_results = 100\n",
    "sleep_time = 0.5 # seconds\n",
    "\n",
    "#auth = tweepy.OAuth2BearerHandler(bearer_token);\n",
    "#api = tweepy.Client(auth)\n",
    "api = tweepy.Client(bearer_token=bearer_token)\n",
    "\n",
    "print (\"Sleeping \"+ str(sleep_time) + \" seconds each query\")\n",
    "\n",
    "def find_votes(_proposal):\n",
    "    if not votes:\n",
    "        return 0\n",
    "    for _vote in votes:\n",
    "        if _vote['id'] == _proposal['id']:\n",
    "            return _vote\n",
    "    return 0\n",
    "\n",
    "for proposal in proposals:\n",
    "    # Needs to happen in loop since time is moving while executing\n",
    "    today = datetime.utcnow()\n",
    "    week_ago = today - timedelta(days=7) + timedelta(minutes=1)\n",
    "\n",
    "    vote = find_votes(proposal)\n",
    "    start_time = week_ago\n",
    "    count = 0\n",
    "\n",
    "    if vote != 0 and vote and vote['start_time'] and week_ago < isoparse(vote['start_time']):\n",
    "        start_time = isoparse(vote['start_time'])\n",
    "        count = vote['count']\n",
    "        previous_count = vote['count']\n",
    "    start_time = start_time.strftime('%Y-%m-%dT%H:%M:%SZ')\n",
    "\n",
    "    hashtag = \"#WIP_\"+proposal.get(\"id\") #\"#WIP_3001\"\n",
    "\n",
    "    next_token = 0\n",
    "    while next_token != -1:\n",
    "        if (next_token == 0):\n",
    "            response = api.search_recent_tweets(query=hashtag, start_time=start_time, max_results=max_results)\n",
    "        else:\n",
    "            response = api.search_recent_tweets(query=hashtag, next_token=next_token, max_results=max_results)\n",
    "\n",
    "        response_count = int(response.meta['result_count'])\n",
    "        count = count+response_count\n",
    "        print (\"Processing: hashtag: \"+hashtag+\n",
    "               \", count: \"+ str(count) + \" (\" + str(count-previous_count) + \" new)\" +\n",
    "               \", start_time: \"+ today.strftime('%Y-%m-%dT%H:%M:%SZ')\n",
    "               )\n",
    "\n",
    "        next_token = -1\n",
    "        if response_count == 100 and response.meta['next_token']:\n",
    "            next_token = response.meta['next_token']\n",
    "\n",
    "        time.sleep(sleep_time)\n",
    "\n",
    "    proposalVotes.append({\n",
    "        \"count\": count,\n",
    "        \"hashtag\": hashtag,\n",
    "        \"start_time\": today.isoformat(),\n",
    "        \"id\": proposal[\"id\"]\n",
    "    })\n",
    "\n",
    "print(\"Writing file: proposal-votes.json\")\n",
    "file = open('proposal-votes.json', 'w')\n",
    "file.write(json.dumps(proposalVotes))\n",
    "file.close()\n",
    "print(\"Done.\")\n",
    "# Retrieve twitter posts with hastag\n",
    "\n",
    "# Count posts\n",
    "\n",
    "# Apply to correct place\n"
   ],
   "metadata": {
    "collapsed": false,
    "pycharm": {
     "name": "#%%\n"
    }
   }
  },
  {
   "cell_type": "markdown",
   "source": [],
   "metadata": {
    "collapsed": false,
    "pycharm": {
     "name": "#%% md\n"
    }
   }
  },
  {
   "cell_type": "code",
   "execution_count": null,
   "outputs": [],
   "source": [],
   "metadata": {
    "collapsed": false,
    "pycharm": {
     "name": "#%%\n"
    }
   }
  },
  {
   "cell_type": "code",
   "execution_count": null,
   "outputs": [],
   "source": [],
   "metadata": {
    "collapsed": false,
    "pycharm": {
     "name": "#%%\n"
    }
   }
  }
 ],
 "metadata": {
  "kernelspec": {
   "display_name": "Python 3",
   "language": "python",
   "name": "python3"
  },
  "language_info": {
   "codemirror_mode": {
    "name": "ipython",
    "version": 2
   },
   "file_extension": ".py",
   "mimetype": "text/x-python",
   "name": "python",
   "nbconvert_exporter": "python",
   "pygments_lexer": "ipython2",
   "version": "2.7.6"
  }
 },
 "nbformat": 4,
 "nbformat_minor": 0
}