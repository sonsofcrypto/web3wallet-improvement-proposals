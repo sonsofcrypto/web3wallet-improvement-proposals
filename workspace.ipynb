{
 "cells": [
  {
   "cell_type": "code",
   "execution_count": 11,
   "metadata": {
    "collapsed": true,
    "pycharm": {
     "name": "#%%\n"
    }
   },
   "outputs": [],
   "source": [
    "import os"
   ]
  },
  {
   "cell_type": "code",
   "execution_count": null,
   "outputs": [],
   "source": [
    "# Extract proposal ids from file name in ./proposals (wip-1001.md -> 1001)\n",
    "# Get category  wip-1xxx.md -> infrastructure, 2xxx.md -> integrations, 3xxx.md -> features\n",
    "# Parse out title from md file\n",
    "# Creat json example\n",
    "#   {\n",
    "#     \"category\": \"infrastructure\",\n",
    "#     \"id\": \"1002\",\n",
    "#     \"image_url\": \"https:\\/\\/raw.githubusercontent.com\\/sonsofcrypto\\/web3wallet-improvement-proposals\\/master\\/images\\/${PROPOSAL_ID}.png\",\n",
    "#     \"title\": \"${TITLE}\", without WIP-XXXX\n",
    "#     \"creation_date\": \"2022-08-28T00:00:00.000Z\", (Any date does not matter, will remove it eventually)\n",
    "#     \"votes\": 0,\n",
    "#     \"body\": \"...\"\n",
    "#   },"
   ],
   "metadata": {
    "collapsed": false,
    "pycharm": {
     "name": "#%%\n"
    }
   }
  },
  {
   "cell_type": "code",
   "execution_count": null,
   "outputs": [],
   "source": [
    "# Create static page from template each proposal ./static/${PROPOSAL_ID}.html"
   ],
   "metadata": {
    "collapsed": false,
    "pycharm": {
     "name": "#%%\n"
    }
   }
  },
  {
   "cell_type": "code",
   "execution_count": null,
   "outputs": [],
   "source": [
    "# Download votes (number of tweets with hashtag for given proposal)"
   ],
   "metadata": {
    "collapsed": false,
    "pycharm": {
     "name": "#%%\n"
    }
   }
  },
  {
   "cell_type": "markdown",
   "source": [],
   "metadata": {
    "collapsed": false,
    "pycharm": {
     "name": "#%% md\n"
    }
   }
  }
 ],
 "metadata": {
  "kernelspec": {
   "display_name": "Python 3",
   "language": "python",
   "name": "python3"
  },
  "language_info": {
   "codemirror_mode": {
    "name": "ipython",
    "version": 2
   },
   "file_extension": ".py",
   "mimetype": "text/x-python",
   "name": "python",
   "nbconvert_exporter": "python",
   "pygments_lexer": "ipython2",
   "version": "2.7.6"
  }
 },
 "nbformat": 4,
 "nbformat_minor": 0
}