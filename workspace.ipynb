{
 "cells": [
  {
   "cell_type": "code",
   "execution_count": 14,
   "metadata": {
    "collapsed": true,
    "pycharm": {
     "name": "#%%\n"
    }
   },
   "outputs": [],
   "source": [
    "import os"
   ]
  },
  {
   "cell_type": "code",
   "execution_count": 15,
   "outputs": [],
   "source": [
    "# Create proposals json file from ./proposals/*.md files\n",
    "\n",
    "proposals = []\n",
    "\n",
    "from pathlib import Path\n",
    "import re, json\n",
    "\n",
    "categories = [\"unknown\", \"infrastructure\", \"integration\", \"feature\"]\n",
    "\n",
    "for p in Path('.').glob('proposals/*.md'):\n",
    "    filename = p.name.replace(\".md\", \"\")\n",
    "    id = filename.replace(\"wip-\", \"\")\n",
    "    category = id[:1] # First number in id\n",
    "    text = p.read_text()\n",
    "    imagePath = re.search(\"[\\/\\w]+\\.[a-zA-Z]{3,4}\", text).group()\n",
    "    # WIP-1001 ETH 2.0 support\n",
    "    title = re.search(\"\\n\\#\\s+WIP-\\d+\\s+(.+)\\n*\", text).group(1)\n",
    "    body = re.search(\"\\n\\#\\s+WIP-\\d+\\s+.+\\n*(.*)\", text).group(1)\n",
    "\n",
    "    proposals.append({\n",
    "        \"category\": categories[int(category)],\n",
    "        \"id\": id,\n",
    "        \"image_url\": (\"https://raw.githubusercontent.com/sonsofcrypto/web3wallet-improvement-proposals/master\"+imagePath),\n",
    "        \"title\": title,\n",
    "        \"creation_date\": \"2022-08-28T00:00:00.000Z\",\n",
    "        \"votes\": 0,\n",
    "        \"body\": body\n",
    "    })\n",
    "file = open('proposals-list-new.json', 'w')\n",
    "file.write(json.dumps(proposals))\n",
    "file.close()"
   ],
   "metadata": {
    "collapsed": false
   }
  },
  {
   "cell_type": "code",
   "execution_count": 16,
   "outputs": [],
   "source": [
    "# Create static page from template each proposal ./static/${PROPOSAL_ID}.html\n",
    "templateFile = open('./static/template.html', 'r')\n",
    "template = templateFile.read()\n",
    "templateFile.close()\n",
    "\n",
    "for p in proposals:\n",
    "    t = template\n",
    "    t = t.replace(\"${ID}\", p[\"id\"])\n",
    "    t = t.replace(\"${TITLE}\", p[\"title\"])\n",
    "    t = t.replace(\"${DESCRIPTION}\", \"web3Wallet improvement proposal \" + p[\"id\"])\n",
    "    t = t.replace(\"${IMAGE_URL}\", p[\"image_url\"].replace(\"\\\\\", \"\"))\n",
    "    t = t.replace(\"${CONTENT}\", p[\"body\"].replace(\"\\\\u\", \"\\\\n\")) # Picks up \\u instead of \\n\n",
    "    t = t.replace(\"${URL}\", \"https://sonsofcrypto.com/proposals/\"+p[\"id\"]+\".html\")\n",
    "    file = open('./static/'+p[\"id\"]+'.html', 'w')\n",
    "    file.write(t)\n",
    "    file.close()"
   ],
   "metadata": {
    "collapsed": false,
    "pycharm": {
     "name": "#%%\n"
    }
   }
  },
  {
   "cell_type": "code",
   "execution_count": 17,
   "outputs": [
    {
     "name": "stdout",
     "output_type": "stream",
     "text": [
      ">>> No votes file found, creating a new file.\n",
      "Sleeping 0.5 seconds each query\n",
      "Processing: hashtag: #WIP_2022, count: 0 (0 new), start_time: 2022-09-21T15:40:45Z\n",
      "Processing: hashtag: #WIP_2016, count: 0 (0 new), start_time: 2022-09-21T15:40:46Z\n",
      "Processing: hashtag: #WIP_2006, count: 0 (0 new), start_time: 2022-09-21T15:40:47Z\n",
      "Processing: hashtag: #WIP_2012, count: 0 (0 new), start_time: 2022-09-21T15:40:48Z\n",
      "Processing: hashtag: #WIP_2026, count: 0 (0 new), start_time: 2022-09-21T15:40:49Z\n",
      "Processing: hashtag: #WIP_2002, count: 0 (0 new), start_time: 2022-09-21T15:40:50Z\n",
      "Processing: hashtag: #WIP_2013, count: 0 (0 new), start_time: 2022-09-21T15:40:50Z\n",
      "Processing: hashtag: #WIP_2027, count: 0 (0 new), start_time: 2022-09-21T15:40:51Z\n",
      "Processing: hashtag: #WIP_2003, count: 0 (0 new), start_time: 2022-09-21T15:40:52Z\n",
      "Processing: hashtag: #WIP_2023, count: 0 (0 new), start_time: 2022-09-21T15:40:53Z\n",
      "Processing: hashtag: #WIP_2017, count: 0 (0 new), start_time: 2022-09-21T15:40:54Z\n",
      "Processing: hashtag: #WIP_2007, count: 0 (0 new), start_time: 2022-09-21T15:40:54Z\n",
      "Processing: hashtag: #WIP_2028, count: 0 (0 new), start_time: 2022-09-21T15:40:55Z\n",
      "Processing: hashtag: #WIP_1006, count: 0 (0 new), start_time: 2022-09-21T15:40:56Z\n",
      "Processing: hashtag: #WIP_3002, count: 0 (0 new), start_time: 2022-09-21T15:40:57Z\n",
      "Processing: hashtag: #WIP_2018, count: 0 (0 new), start_time: 2022-09-21T15:40:57Z\n",
      "Processing: hashtag: #WIP_1002, count: 0 (0 new), start_time: 2022-09-21T15:40:58Z\n",
      "Processing: hashtag: #WIP_3006, count: 0 (0 new), start_time: 2022-09-21T15:40:59Z\n",
      "Processing: hashtag: #WIP_2008, count: 0 (0 new), start_time: 2022-09-21T15:41:00Z\n",
      "Processing: hashtag: #WIP_2019, count: 0 (0 new), start_time: 2022-09-21T15:41:00Z\n",
      "Processing: hashtag: #WIP_1003, count: 0 (0 new), start_time: 2022-09-21T15:41:01Z\n",
      "Processing: hashtag: #WIP_2009, count: 0 (0 new), start_time: 2022-09-21T15:41:03Z\n",
      "Processing: hashtag: #WIP_3003, count: 0 (0 new), start_time: 2022-09-21T15:41:03Z\n",
      "Processing: hashtag: #WIP_3004, count: 0 (0 new), start_time: 2022-09-21T15:41:04Z\n",
      "Processing: hashtag: #WIP_1004, count: 0 (0 new), start_time: 2022-09-21T15:41:05Z\n",
      "Processing: hashtag: #WIP_1005, count: 0 (0 new), start_time: 2022-09-21T15:41:06Z\n",
      "Processing: hashtag: #WIP_3001, count: 1 (1 new), start_time: 2022-09-21T15:41:06Z\n",
      "Processing: hashtag: #WIP_1001, count: 1 (1 new), start_time: 2022-09-21T15:41:07Z\n",
      "Processing: hashtag: #WIP_3005, count: 0 (0 new), start_time: 2022-09-21T15:41:08Z\n",
      "Processing: hashtag: #WIP_2010, count: 0 (0 new), start_time: 2022-09-21T15:41:09Z\n",
      "Processing: hashtag: #WIP_2024, count: 0 (0 new), start_time: 2022-09-21T15:41:10Z\n",
      "Processing: hashtag: #WIP_2020, count: 0 (0 new), start_time: 2022-09-21T15:41:11Z\n",
      "Processing: hashtag: #WIP_2014, count: 0 (0 new), start_time: 2022-09-21T15:41:12Z\n",
      "Processing: hashtag: #WIP_2004, count: 0 (0 new), start_time: 2022-09-21T15:41:12Z\n",
      "Processing: hashtag: #WIP_2021, count: 0 (0 new), start_time: 2022-09-21T15:41:13Z\n",
      "Processing: hashtag: #WIP_2015, count: 0 (0 new), start_time: 2022-09-21T15:41:14Z\n",
      "Processing: hashtag: #WIP_2005, count: 0 (0 new), start_time: 2022-09-21T15:41:15Z\n",
      "Processing: hashtag: #WIP_2011, count: 0 (0 new), start_time: 2022-09-21T15:41:15Z\n",
      "Processing: hashtag: #WIP_2025, count: 0 (0 new), start_time: 2022-09-21T15:41:16Z\n",
      "Processing: hashtag: #WIP_2001, count: 0 (0 new), start_time: 2022-09-21T15:41:17Z\n",
      "Writing file: proposals-votes.json\n",
      "Done.\n"
     ]
    }
   ],
   "source": [
    "# Have to run step one to have proposals in memory\n",
    "#\n",
    "# Might be better ways but this is one way to get a Twitter bearer token\n",
    "# 1. https://oauth-playground.glitch.me/?id=tweetsRecentSearch\n",
    "# 2. Run a query and authorize with Twitter account\n",
    "# 3. Click the dots on the right hand side\n",
    "# 4. Click Include access token\n",
    "# 5. It should now be visible in the query, just capture the <code>:\n",
    "# -H \"Authorization: Bearer <code>\"\n",
    "# It will expire after 6 hours or something\n",
    "\n",
    "# Download votes (number of tweets with hashtag for given proposal)\n",
    "import os, tweepy, time, json\n",
    "from datetime import datetime, timedelta, date\n",
    "from dateutil.parser import isoparse\n",
    "from dotenv import load_dotenv\n",
    "load_dotenv()\n",
    "\n",
    "\n",
    "# Get proposals\n",
    "proposalsFile = open('./proposals-list-new.json', 'r')\n",
    "proposals = json.loads(proposalsFile.read())\n",
    "proposalsFile.close()\n",
    "if type(proposals) is not list:\n",
    "    exit (\"No proposals found\")\n",
    "# Get votes\n",
    "try:\n",
    "    votesFile = open('./proposals-votes.json', 'r')\n",
    "    votes = json.loads(votesFile.read())\n",
    "    votesFile.close()\n",
    "except:\n",
    "    votes = False\n",
    "    print(\">>> No votes file found, creating a new file.\")\n",
    "\n",
    "proposalVotes = []\n",
    "\n",
    "\n",
    "api_key = os.environ.get(\"TWITTER_API\", \"\")\n",
    "api_key_secret = os.environ.get(\"TWITTER_API_SECRET\", \"\")\n",
    "bearer_token = os.environ.get(\"TWITTER_BEARER_TOKEN\", \"\")\n",
    "\n",
    "\n",
    "if api_key == \"\" or api_key_secret == \"\":\n",
    "    exit(\"API keys not set for twitter, please set in env TWITTER_API and TWITTER_API_SECRET\")\n",
    "\n",
    "# Connect to twitter API\n",
    "max_results = 100\n",
    "sleep_time = 0.5 # seconds\n",
    "\n",
    "#auth = tweepy.OAuth2BearerHandler(bearer_token);\n",
    "#api = tweepy.Client(auth)\n",
    "api = tweepy.Client(bearer_token=bearer_token)\n",
    "\n",
    "print (\"Sleeping \"+ str(sleep_time) + \" seconds each query\")\n",
    "\n",
    "def find_votes(_proposal):\n",
    "    if not votes:\n",
    "        return 0\n",
    "    for _vote in votes:\n",
    "        if _vote['id'] == _proposal['id']:\n",
    "            return _vote\n",
    "    return 0\n",
    "\n",
    "for proposal in proposals:\n",
    "    # Needs to happen in loop since time is moving while executing\n",
    "    today = datetime.utcnow()\n",
    "    week_ago = today - timedelta(days=7) + timedelta(minutes=1)\n",
    "\n",
    "    vote = find_votes(proposal)\n",
    "    start_time = week_ago\n",
    "    count = 0\n",
    "\n",
    "    if vote != 0 and vote and vote['start_time'] and week_ago < isoparse(vote['start_time']):\n",
    "        start_time = isoparse(vote['start_time'])\n",
    "        count = vote['count']\n",
    "        previous_count = vote['count']\n",
    "    start_time = start_time.strftime('%Y-%m-%dT%H:%M:%SZ')\n",
    "\n",
    "    hashtag = \"#WIP_\"+proposal.get(\"id\") #\"#WIP_3001\"\n",
    "\n",
    "    next_token = 0\n",
    "    while next_token != -1:\n",
    "        if (next_token == 0):\n",
    "            response = api.search_recent_tweets(query=hashtag, start_time=start_time, max_results=max_results)\n",
    "        else:\n",
    "            response = api.search_recent_tweets(query=hashtag, next_token=next_token, max_results=max_results)\n",
    "\n",
    "        response_count = int(response.meta['result_count'])\n",
    "        count = count+response_count\n",
    "        print (\"Processing: hashtag: \"+hashtag+\n",
    "               \", count: \"+ str(count) + \" (\" + str(count-previous_count) + \" new)\" +\n",
    "               \", start_time: \"+ today.strftime('%Y-%m-%dT%H:%M:%SZ')\n",
    "               )\n",
    "\n",
    "        next_token = -1\n",
    "        if response_count == 100 and response.meta['next_token']:\n",
    "            next_token = response.meta['next_token']\n",
    "\n",
    "        time.sleep(sleep_time)\n",
    "\n",
    "    proposalVotes.append({\n",
    "        \"count\": count,\n",
    "        \"hashtag\": hashtag,\n",
    "        \"start_time\": today.isoformat(),\n",
    "        \"id\": proposal[\"id\"]\n",
    "    })\n",
    "\n",
    "print(\"Writing file: proposals-votes.json\")\n",
    "file = open('proposals-votes.json', 'w')\n",
    "file.write(json.dumps(proposalVotes))\n",
    "file.close()\n",
    "print(\"Done.\")\n",
    "# Retrieve twitter posts with hastag\n",
    "\n",
    "# Count posts\n",
    "\n",
    "# Apply to correct place\n"
   ],
   "metadata": {
    "collapsed": false
   }
  },
  {
   "cell_type": "markdown",
   "source": [],
   "metadata": {
    "collapsed": false,
    "pycharm": {
     "name": "#%% md\n"
    }
   }
  },
  {
   "cell_type": "code",
   "execution_count": 17,
   "outputs": [],
   "source": [],
   "metadata": {
    "collapsed": false,
    "pycharm": {
     "name": "#%%\n"
    }
   }
  },
  {
   "cell_type": "code",
   "execution_count": 17,
   "outputs": [],
   "source": [],
   "metadata": {
    "collapsed": false,
    "pycharm": {
     "name": "#%%\n"
    }
   }
  }
 ],
 "metadata": {
  "kernelspec": {
   "display_name": "Python 3",
   "language": "python",
   "name": "python3"
  },
  "language_info": {
   "codemirror_mode": {
    "name": "ipython",
    "version": 2
   },
   "file_extension": ".py",
   "mimetype": "text/x-python",
   "name": "python",
   "nbconvert_exporter": "python",
   "pygments_lexer": "ipython2",
   "version": "2.7.6"
  }
 },
 "nbformat": 4,
 "nbformat_minor": 0
}
