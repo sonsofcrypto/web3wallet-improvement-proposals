{
 "cells": [
  {
   "cell_type": "code",
<<<<<<< HEAD
   "execution_count": null,
=======
<<<<<<< HEAD
   "execution_count": 1,
=======
   "execution_count": null,
>>>>>>> 183ca7c (Intial work fetching twitter counts)
>>>>>>> fbb1237 (Intial work fetching twitter counts)
   "metadata": {
    "collapsed": true,
    "pycharm": {
     "name": "#%%\n"
    }
   },
   "outputs": [],
   "source": [
    "import os"
   ]
  },
  {
   "cell_type": "code",
<<<<<<< HEAD
   "execution_count": 3,
=======
   "execution_count": 2,
>>>>>>> 183ca7c (Intial work fetching twitter counts)
   "outputs": [],
   "source": [
    "# Create proposals json file from ./proposals/*.md files\n",
    "\n",
    "proposals = []\n",
    "\n",
    "from pathlib import Path\n",
    "import re, json\n",
    "\n",
    "categories = [\"unknown\", \"infrastructure\", \"integrations\", \"feature\"]\n",
    "\n",
    "for p in Path('.').glob('proposals/*.md'):\n",
    "    filename = p.name.replace(\".md\", \"\")\n",
    "    id = filename.replace(\"wip-\", \"\")\n",
    "    category = id[:1] # First number in id\n",
    "    text = p.read_text()\n",
    "    imagePath = re.search(\"[\\\\\\/\\w]+\\.[a-zA-Z]{3,4}\", text).group().replace(\"/\", \"\\\\/\")\n",
    "    # WIP-1001 ETH 2.0 support\n",
    "    title = re.search(\"\\n\\#\\s+WIP-\\d+\\s+(.+)\\n*\", text).group(1)\n",
    "    body = re.search(\"\\n\\#\\s+WIP-\\d+\\s+.+\\n*(.*)\", text).group(1)\n",
    "\n",
    "    proposals.append({\n",
    "        \"category\": categories[int(category)],\n",
    "        \"image\": \"https:\\/\\/raw.githubusercontent.com\\/sonsofcrypto\\/web3wallet-improvement-proposals\\/master\"+imagePath,\n",
    "        \"id\": id,\n",
    "        \"title\": title,\n",
    "        \"body\": body,\n",
    "        \"votes\": 0,\n",
    "        \"creation_date\": \"2022-08-28T00:00:00.000Z\"\n",
    "    })\n",
    "file = open('proposal-list-new.json', 'w')\n",
    "file.write(json.dumps(proposals))\n",
    "file.close()"
   ],
   "metadata": {
    "collapsed": false,
    "pycharm": {
     "name": "#%%\n"
    }
   }
  },
  {
   "cell_type": "code",
   "execution_count": null,
   "outputs": [],
   "source": [
    "# Create static page from template each proposal ./static/${PROPOSAL_ID}.html\n",
    "templateFile = open('./static/template.html', 'r')\n",
    "template = templateFile.read()\n",
    "templateFile.close()\n",
    "\n",
    "for p in proposals:\n",
    "    t = template\n",
    "    t = t.replace(\"${ID}\", p[\"id\"])\n",
    "    t = t.replace(\"${TITLE}\", p[\"title\"])\n",
    "    t = t.replace(\"${DESCRIPTION}\", \"web3Wallet improvement proposal \" + p[\"id\"])\n",
    "    t = t.replace(\"${IMAGE_URL}\", p[\"image\"].replace(\"\\\\\", \"\"))\n",
    "    t = t.replace(\"${CONTENT}\", p[\"body\"])\n",
    "    t = t.replace(\"${URL}\", \"https://sonsofcrypto.com/proposals/\"+p[\"id\"]+\".html\")\n",
    "    file = open('./static/'+p[\"id\"]+'.html', 'w')\n",
    "    file.write(t)\n",
    "    file.close()"
   ],
   "metadata": {
    "collapsed": false,
    "pycharm": {
     "name": "#%%\n"
    }
   }
  },
  {
   "cell_type": "code",
   "execution_count": null,
   "outputs": [],
   "source": [
    "# Have to run step one to have proposals in memory\n",
    "# Download votes (number of tweets with hashtag for given proposal)\n",
    "import os, tweepy, time\n",
    "from dotenv import load_dotenv\n",
    "\n",
    "load_dotenv()\n",
    "\n",
    "api_key = os.environ.get(\"TWITTER_API\", \"\")\n",
    "api_key_secret = os.environ.get(\"TWITTER_API_SECRET\", \"\")\n",
    "bearer_token = os.environ.get(\"TWITTER_BEARER_TOKEN\", \"\")\n",
    "\n",
    "if api_key == \"\" or api_key_secret == \"\":\n",
    "    exit(\"API keys not set for twitter, please set in env TWITTER_API and TWITTER_API_SECRET\")\n",
    "\n",
    "# Connect to twitter API\n",
    "max_results = 100\n",
    "sleep_time = 0.5 # seconds\n",
    "\n",
    "auth = tweepy.OAuth2BearerHandler(bearer_token);\n",
    "api = tweepy.Client(auth)\n",
    "api = tweepy.Client(bearer_token=bearer_token)\n",
    "\n",
    "for proposal in proposals:\n",
    "    hashtag = \"#WIP_\"+proposal.get(\"id\") #\"#WIP_3001\"\n",
    "    latest_id = 0\n",
    "    #start_time = \"2022-08-30T00:00:00Z\"\n",
    "    page = 0\n",
    "    count = 0\n",
    "    while page >= 0:\n",
    "        response = api.search_recent_tweets(query=hashtag, max_results=max_results)\n",
    "        if page == 0:\n",
    "            latest_id = response.meta.get('newest_id', 0)\n",
    "        response_count = int(response.meta['result_count'])\n",
    "        count = count+response_count\n",
    "        print (\"Processing: hashtag: \"+hashtag+\n",
    "               \", page: \"+ str(page) +\n",
    "               \", count: \"+ str(count) +\n",
    "               \", latest_id: \"+ str(latest_id)\n",
    "               )\n",
    "        if (response_count == 0):\n",
    "            page = -1\n",
    "        else:\n",
    "            if response_count == max_results:\n",
    "                page = page+1\n",
    "            else:\n",
    "                page = -1\n",
    "        time.sleep(sleep_time)\n",
    "    print ({\n",
    "        \"count\": count,\n",
    "        \"hashtag\": hashtag,\n",
    "        \"latest_id\": latest_id\n",
    "    })\n",
    "\n",
    "# Retrieve twitter posts with hastag\n",
    "\n",
    "# Count posts\n",
    "\n",
    "# Apply to correct place\n"
   ],
   "metadata": {
    "collapsed": false,
    "pycharm": {
     "name": "#%%\n",
     "is_executing": true
    }
   }
  },
  {
   "cell_type": "markdown",
   "source": [],
   "metadata": {
    "collapsed": false,
    "pycharm": {
     "name": "#%% md\n"
    }
   }
  },
  {
   "cell_type": "code",
   "execution_count": null,
   "outputs": [],
   "source": [],
   "metadata": {
    "collapsed": false,
    "pycharm": {
     "name": "#%%\n"
    }
   }
  }
 ],
 "metadata": {
  "kernelspec": {
   "display_name": "Python 3",
   "language": "python",
   "name": "python3"
  },
  "language_info": {
   "codemirror_mode": {
    "name": "ipython",
    "version": 2
   },
   "file_extension": ".py",
   "mimetype": "text/x-python",
   "name": "python",
   "nbconvert_exporter": "python",
   "pygments_lexer": "ipython2",
   "version": "2.7.6"
  }
 },
 "nbformat": 4,
 "nbformat_minor": 0
}
