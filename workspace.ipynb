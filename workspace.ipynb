{
 "cells": [
  {
   "cell_type": "code",
   "execution_count": 1,
   "metadata": {
    "collapsed": true,
    "pycharm": {
     "name": "#%%\n"
    }
   },
   "outputs": [],
   "source": [
    "import os"
   ]
  },
  {
   "cell_type": "code",
   "execution_count": 3,
   "outputs": [],
   "source": [
    "# Create proposals json file from ./proposals/*.md files\n",
    "\n",
    "proposals = []\n",
    "\n",
    "from pathlib import Path\n",
    "import re, json\n",
    "\n",
    "categories = [\"unknown\", \"infrastructure\", \"integrations\", \"feature\"]\n",
    "\n",
    "for p in Path('.').glob('proposals/*.md'):\n",
    "    filename = p.name.replace(\".md\", \"\")\n",
    "    id = filename.replace(\"wip-\", \"\")\n",
    "    category = id[:1] # First number in id\n",
    "    text = p.read_text()\n",
    "    imagePath = re.search(\"[\\\\\\/\\w]+\\.[a-zA-Z]{3,4}\", text).group().replace(\"/\", \"\\\\/\")\n",
    "    # WIP-1001 ETH 2.0 support\n",
    "    title = re.search(\"\\n\\#\\s+WIP-\\d+\\s+(.+)\\n*\", text).group(1)\n",
    "    body = re.search(\"\\n\\#\\s+WIP-\\d+\\s+.+\\n*(.*)\", text).group(1)\n",
    "\n",
    "    proposals.append({\n",
    "        \"category\": categories[int(category)],\n",
    "        \"image\": \"https:\\/\\/raw.githubusercontent.com\\/sonsofcrypto\\/web3wallet-improvement-proposals\\/master\"+imagePath,\n",
    "        \"id\": id,\n",
    "        \"title\": title,\n",
    "        \"body\": body,\n",
    "        \"votes\": 0,\n",
    "        \"creation_date\": \"2022-08-28T00:00:00.000Z\"\n",
    "    })\n",
    "file = open('proposal-list-new.json', 'w')\n",
    "file.write(json.dumps(proposals))\n",
    "file.close()"
   ],
   "metadata": {
    "collapsed": false,
    "pycharm": {
     "name": "#%%\n"
    }
   }
  },
  {
   "cell_type": "code",
   "execution_count": 4,
   "outputs": [
    {
     "name": "stdout",
     "output_type": "stream",
     "text": [
      "done: ./static/2022.html\n",
      "done: ./static/2016.html\n",
      "done: ./static/2006.html\n",
      "done: ./static/2012.html\n",
      "done: ./static/2026.html\n",
      "done: ./static/2002.html\n",
      "done: ./static/2013.html\n",
      "done: ./static/2027.html\n",
      "done: ./static/2003.html\n",
      "done: ./static/2023.html\n",
      "done: ./static/2017.html\n",
      "done: ./static/2007.html\n",
      "done: ./static/2028.html\n",
      "done: ./static/1006.html\n",
      "done: ./static/3002.html\n",
      "done: ./static/2018.html\n",
      "done: ./static/1002.html\n",
      "done: ./static/3006.html\n",
      "done: ./static/2008.html\n",
      "done: ./static/2019.html\n",
      "done: ./static/1003.html\n",
      "done: ./static/2009.html\n",
      "done: ./static/3003.html\n",
      "done: ./static/3004.html\n",
      "done: ./static/1004.html\n",
      "done: ./static/1005.html\n",
      "done: ./static/3001.html\n",
      "done: ./static/1001.html\n",
      "done: ./static/3005.html\n",
      "done: ./static/2010.html\n",
      "done: ./static/2024.html\n",
      "done: ./static/2020.html\n",
      "done: ./static/2014.html\n",
      "done: ./static/2004.html\n",
      "done: ./static/2021.html\n",
      "done: ./static/2015.html\n",
      "done: ./static/2005.html\n",
      "done: ./static/2011.html\n",
      "done: ./static/2025.html\n",
      "done: ./static/2001.html\n"
     ]
    }
   ],
   "source": [
    "# Create static page from template each proposal ./static/${PROPOSAL_ID}.html\n",
    "templateFile = open('./static/template.html', 'r')\n",
    "template = templateFile.read()\n",
    "templateFile.close()\n",
    "\n",
    "for p in proposals:\n",
    "    t = template\n",
    "    t = t.replace(\"${ID}\", p[\"id\"])\n",
    "    t = t.replace(\"${TITLE}\", p[\"title\"])\n",
    "    t = t.replace(\"${DESCRIPTION}\", \"web3Wallet improvement proposal \" + p[\"id\"])\n",
    "    t = t.replace(\"${IMAGE_URL}\", p[\"image\"].replace(\"\\\\\", \"\"))\n",
    "    t = t.replace(\"${CONTENT}\", p[\"body\"])\n",
    "    t = t.replace(\"${URL}\", \"https://sonsofcrypto.com/proposals/\"+p[\"id\"]+\".html\")\n",
    "    file = open('./static/'+p[\"id\"]+'.html', 'w')\n",
    "    file.write(t)\n",
    "    file.close()\n",
    "    print(\"done: \"+'./static/'+p[\"id\"]+'.html')"
   ],
   "metadata": {
    "collapsed": false,
    "pycharm": {
     "name": "#%%\n"
    }
   }
  },
  {
   "cell_type": "code",
   "execution_count": 107,
   "outputs": [],
   "source": [
    "# Download votes (number of tweets with hashtag for given proposal)"
   ],
   "metadata": {
    "collapsed": false,
    "pycharm": {
     "name": "#%%\n"
    }
   }
  },
  {
   "cell_type": "markdown",
   "source": [],
   "metadata": {
    "collapsed": false,
    "pycharm": {
     "name": "#%% md\n"
    }
   }
  }
 ],
 "metadata": {
  "kernelspec": {
   "display_name": "Python 3",
   "language": "python",
   "name": "python3"
  },
  "language_info": {
   "codemirror_mode": {
    "name": "ipython",
    "version": 2
   },
   "file_extension": ".py",
   "mimetype": "text/x-python",
   "name": "python",
   "nbconvert_exporter": "python",
   "pygments_lexer": "ipython2",
   "version": "2.7.6"
  }
 },
 "nbformat": 4,
 "nbformat_minor": 0
}