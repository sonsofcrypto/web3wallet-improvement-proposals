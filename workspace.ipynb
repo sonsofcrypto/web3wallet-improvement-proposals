{
 "cells": [
  {
   "cell_type": "code",
   "execution_count": 11,
   "metadata": {
    "collapsed": true,
    "pycharm": {
     "name": "#%%\n"
    }
   },
   "outputs": [],
   "source": [
    "import os"
   ]
  },
  {
   "cell_type": "code",
   "execution_count": 57,
   "outputs": [],
   "source": [
    "# Extract proposal ids from file name in ./proposals (wip-1001.md -> 1001)\n",
    "# Get category  wip-1xxx.md -> infrastructure, 2xxx.md -> integrations, 3xxx.md -> features\n",
    "# Parse out title from md file\n",
    "# Creat json example\n",
    "#   {\n",
    "#     \"category\": \"infrastructure\",\n",
    "#     \"id\": \"1002\",\n",
    "#     \"image_url\": \"https:\\/\\/raw.githubusercontent.com\\/sonsofcrypto\\/web3wallet-improvement-proposals\\/master\\/images\\/${PROPOSAL_ID}.png\",\n",
    "#     \"title\": \"${TITLE}\", without WIP-XXXX\n",
    "#     \"creation_date\": \"2022-08-28T00:00:00.000Z\", (Any date does not matter, will remove it eventually)\n",
    "#     \"votes\": 0,\n",
    "#     \"body\": \"...\"\n",
    "#   },\n",
    "\n",
    "proposals = []\n",
    "\n",
    "from pathlib import Path\n",
    "import re, json\n",
    "\n",
    "categories = [\"unknown\", \"infrastructure\", \"integrations\", \"feature\"]\n",
    "\n",
    "for p in Path('.').glob('proposals/*.md'):\n",
    "    filename = p.name.replace(\".md\", \"\")\n",
    "    id = filename.replace(\"wip-\", \"\")\n",
    "    category = id[:1] # First number in id\n",
    "    text = p.read_text()\n",
    "    imagePath = re.search(\"[\\\\\\/\\w]+\\.[a-zA-Z]{3,4}\", text).group().replace(\"/\", \"\\\\/\")\n",
    "    # WIP-1001 ETH 2.0 support\n",
    "    title = re.search(\"\\n\\#\\s+WIP-\\d+\\s+(.+)\\n*\", text).group(1)\n",
    "    body = re.search(\"\\n\\#\\s+WIP-\\d+\\s+.+\\n*(.*)\", text).group(1)\n",
    "\n",
    "    proposals.append({\n",
    "        \"category\": categories[int(category)],\n",
    "        \"image\": \"https:\\/\\/raw.githubusercontent.com\\/sonsofcrypto\\/web3wallet-improvement-proposals\\/master\"+imagePath,\n",
    "        \"id\": id,\n",
    "        \"title\": title,\n",
    "        \"body\": body,\n",
    "        \"votes\": 0,\n",
    "        \"creation_date\": \"2022-08-28T00:00:00.000Z\"\n",
    "    })\n",
    "file = open('proposal-list-new.json', 'w')\n",
    "file.write(json.dumps(proposals))\n",
    "file.close()"
   ],
   "metadata": {
    "collapsed": false,
    "pycharm": {
     "name": "#%%\n"
    }
   }
  },
  {
   "cell_type": "code",
   "execution_count": 4,
   "outputs": [],
   "source": [
    "# Create static page from template each proposal ./static/${PROPOSAL_ID}.html"
   ],
   "metadata": {
    "collapsed": false,
    "pycharm": {
     "name": "#%%\n"
    }
   }
  },
  {
   "cell_type": "code",
   "execution_count": 5,
   "outputs": [],
   "source": [
    "# Download votes (number of tweets with hashtag for given proposal)"
   ],
   "metadata": {
    "collapsed": false,
    "pycharm": {
     "name": "#%%\n"
    }
   }
  },
  {
   "cell_type": "markdown",
   "source": [],
   "metadata": {
    "collapsed": false,
    "pycharm": {
     "name": "#%% md\n"
    }
   }
  }
 ],
 "metadata": {
  "kernelspec": {
   "display_name": "Python 3",
   "language": "python",
   "name": "python3"
  },
  "language_info": {
   "codemirror_mode": {
    "name": "ipython",
    "version": 2
   },
   "file_extension": ".py",
   "mimetype": "text/x-python",
   "name": "python",
   "nbconvert_exporter": "python",
   "pygments_lexer": "ipython2",
   "version": "2.7.6"
  }
 },
 "nbformat": 4,
 "nbformat_minor": 0
}